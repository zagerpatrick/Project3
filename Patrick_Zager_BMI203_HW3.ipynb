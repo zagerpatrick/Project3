{
 "cells": [
  {
   "cell_type": "code",
   "execution_count": 2,
   "metadata": {},
   "outputs": [],
   "source": [
    "# Imports\n",
    "import scripts.io as io\n",
    "import scripts.util as util\n",
    "import scripts.NN as nn\n",
    "import random\n",
    "import numpy as np\n",
    "import matplotlib.pyplot as plt\n",
    "from sklearn.metrics import auc\n",
    "\n",
    "cmap=plt.cm.get_cmap(plt.cm.viridis,143)"
   ]
  },
  {
   "cell_type": "markdown",
   "metadata": {},
   "source": [
    "## Part 1: Autoencoder implementation"
   ]
  },
  {
   "cell_type": "markdown",
   "metadata": {},
   "source": [
    "1) Implement a feed-forward, neural network with standard sigmoidal units. Your\n",
    "implementation should accept a vector as input, be able to adjust network weights by\n",
    "backpropagation, and report the average loss per epoch. It should also allow for\n",
    "variation in the size of input layer, hidden layers, and output layer. We expect that you\n",
    "will be able to produce fast enough code to be of use in the learning task at hand.\n",
    "\n",
    "a. To confirm that your implementation functions correctly, demonstrate its ability to\n",
    "correctly solve the 8 x 3 x 8 autoencoder task. Specifically, set up an\n",
    "autoencoder network consisting of an input layer (8 nodes), a hidden layer (3\n",
    "nodes), and an output layer (8 nodes), all with sigmoidal units."
   ]
  },
  {
   "cell_type": "code",
   "execution_count": 3,
   "metadata": {},
   "outputs": [
    {
     "data": {
      "text/plain": [
       "Text(0, 0.5, 'Loss (Sum of Squares)')"
      ]
     },
     "execution_count": 3,
     "metadata": {},
     "output_type": "execute_result"
    },
    {
     "data": {
      "image/png": "[encoded data removed]",
      "text/plain": [
       "<Figure size 432x288 with 1 Axes>"
      ]
     },
     "metadata": {
      "needs_background": "light"
     },
     "output_type": "display_data"
    }
   ],
   "source": [
    "# Model Training #\n",
    "\n",
    "n_train = 1000\n",
    "n_test = 1000\n",
    "\n",
    "# Define network dimensions\n",
    "dim = [8, 3, 8]\n",
    "\n",
    "# Define training data\n",
    "x = util.gen_label_array((dim[0], n_train))\n",
    "\n",
    "# Define the number of epochs and learning rate for model training\n",
    "n_epochs = 2000\n",
    "learning_rate = 2e-3\n",
    "\n",
    "# Create and fit model\n",
    "net =nn.NeuralNetwork(dim)\n",
    "net.fit(x, x, n_epochs, learning_rate)\n",
    "\n",
    "# Plot loss over range of epochs\n",
    "plt.plot(net.loss_list)\n",
    "plt.title('Loss Over Epoch')\n",
    "plt.xlabel('Epoch')\n",
    "plt.ylabel('Loss (Sum of Squares)')"
   ]
  },
  {
   "cell_type": "code",
   "execution_count": 4,
   "metadata": {},
   "outputs": [],
   "source": [
    "# Model Testing #\n",
    "\n",
    "# Define testing data and labels\n",
    "x_ = util.gen_label_array((dim[0], n_test))\n",
    "\n",
    "# Make prediction on testing data\n",
    "yfin = net.predict(x_, x_)"
   ]
  },
  {
   "cell_type": "code",
   "execution_count": 5,
   "metadata": {},
   "outputs": [
    {
     "data": {
      "text/plain": [
       "Text(0.08, 0.5, 'Label Value')"
      ]
     },
     "execution_count": 5,
     "metadata": {},
     "output_type": "execute_result"
    },
    {
     "data": {
      "image/png": "[encoded data removed]",
      "text/plain": [
       "<Figure size 576x273.6 with 2 Axes>"
      ]
     },
     "metadata": {
      "needs_background": "light"
     },
     "output_type": "display_data"
    }
   ],
   "source": [
    "# Let's visually investigate the model accuracy\n",
    "\n",
    "fig, (ax1, ax2) = plt.subplots(2, 1, figsize=(8, 3.8))\n",
    "\n",
    "ax1.imshow(x_[:,0:50], cmap='gray') # Plot the input data\n",
    "ax1.set_title('Input Label Data')\n",
    "ax2.imshow(yfin[:,0:50], cmap='gray') # Plot the output data\n",
    "ax2.set_title('Output Label Data')\n",
    "ax2.set_xlabel('Label Index')\n",
    "fig.text(0.08, 0.5, 'Label Value', va='center', rotation='vertical')"
   ]
  },
  {
   "cell_type": "code",
   "execution_count": 6,
   "metadata": {},
   "outputs": [
    {
     "name": "stdout",
     "output_type": "stream",
     "text": [
      "Model Accuracy: 100.00%\n"
     ]
    }
   ],
   "source": [
    "# Determine accuracy of model\n",
    "\n",
    "count_correct = []\n",
    "\n",
    "# Loop through testing results\n",
    "for i in range(0, n_test):\n",
    "    call = yfin[:,i:i+1].argmax()  # Find index of maximum value in output layer\n",
    "    label = x_[:,i:i+1].argmax()\n",
    "    if call == label:  # Compare output layer to known class\n",
    "        count_correct.append(1)\n",
    "    else:\n",
    "        count_correct.append(0)\n",
    "        \n",
    "# Calculate Accuracy\n",
    "acc = np.sum(count_correct)/len(count_correct) * 100\n",
    "print(f'Model Accuracy: {acc:.2f}%')"
   ]
  },
  {
   "cell_type": "markdown",
   "metadata": {},
   "source": [
    "As expected, the autoencoder has perfect accuracy. Visualizing the model results shows the noise present in the model output, which is expected given that we compress the input data from eight to three in the neural network."
   ]
  },
  {
   "cell_type": "markdown",
   "metadata": {},
   "source": [
    "# Part 2: Adapt for classification, and develop training regime"
   ]
  },
  {
   "cell_type": "markdown",
   "metadata": {},
   "source": [
    "2) Set up a procedure to encode DNA sequences (Rap1 binding sites) as input for your\n",
    "neural network. Consider how your encoding strategy may influence your network\n",
    "predictions.\n",
    "\n",
    "a. Describe your process of encoding your training DNA sequences into input\n",
    "vectors in detail. Include a description of how you think the representation might\n",
    "affect your network’s predictions."
   ]
  },
  {
   "cell_type": "code",
   "execution_count": 11,
   "metadata": {},
   "outputs": [],
   "source": [
    "# Import DNA sequences\n",
    "\n",
    "pos = io.txt2str('data/rap1-lieb-positives.txt')\n",
    "neg = io.fa2str('data/yeast-upstream-1k-negative.fa')"
   ]
  },
  {
   "cell_type": "code",
   "execution_count": 12,
   "metadata": {},
   "outputs": [],
   "source": [
    "# One-hot encode the sequences\n",
    "\n",
    "pos_array = np.hstack(util.one_hot_dna(pos, 17))\n",
    "neg_array = np.hstack(util.one_hot_dna(neg, 1000))"
   ]
  },
  {
   "cell_type": "markdown",
   "metadata": {},
   "source": [
    "Individual DNA sequence strings are read in like so:"
   ]
  },
  {
   "cell_type": "code",
   "execution_count": 13,
   "metadata": {},
   "outputs": [
    {
     "data": {
      "text/plain": [
       "'ACATCCGTGCACCTCCG'"
      ]
     },
     "execution_count": 13,
     "metadata": {},
     "output_type": "execute_result"
    }
   ],
   "source": [
    "pos[0]"
   ]
  },
  {
   "cell_type": "markdown",
   "metadata": {},
   "source": [
    "The sequence is then one-hot encoded. This encoding scheme converts the the nucleotide categories: 'A', 'T', 'G', and 'C', into numeric dummy variables: [0,0,0,1], [0,0,1,0], [0,1,0,0], and [1,0,0,0], which can be input into the neural network.\n",
    "\n",
    "Following the encoding step, you have the option of either concatenating your encoded vectors into a 1D array of size (n*4, 1) or into a 2D array or size (n, 4). ... ... ... An encoded example of the sequence above is shown below."
   ]
  },
  {
   "cell_type": "code",
   "execution_count": 14,
   "metadata": {},
   "outputs": [
    {
     "data": {
      "text/plain": [
       "array([1., 0., 0., 0., 0., 0., 0., 1., 1., 0., 0., 0., 0., 1., 0., 0., 0.,\n",
       "       0., 0., 1., 0., 0., 0., 1., 0., 0., 1., 0., 0., 1., 0., 0., 0., 0.,\n",
       "       1., 0., 0., 0., 0., 1., 1., 0., 0., 0., 0., 0., 0., 1., 0., 0., 0.,\n",
       "       1., 0., 1., 0., 0., 0., 0., 0., 1., 0., 0., 0., 1., 0., 0., 1., 0.])"
      ]
     },
     "execution_count": 14,
     "metadata": {},
     "output_type": "execute_result"
    }
   ],
   "source": [
    "pos_array[:,0]"
   ]
  },
  {
   "cell_type": "markdown",
   "metadata": {},
   "source": [
    "3) Design a training regime that will use both positive and negative training data to train\n",
    "your predictive model. Note that if you use a naive scheme here, which overweights\n",
    "the negative data, your system will probably not converge (it will just call everything a\n",
    "non-Rap1 site).\n",
    "\n",
    "a. Describe your training regime. How was your training regime designed so\n",
    "as to prevent the negative training data from overwhelming the positive\n",
    "training data?"
   ]
  },
  {
   "cell_type": "code",
   "execution_count": 15,
   "metadata": {},
   "outputs": [],
   "source": [
    "# Split data into training and testing data\n",
    "\n",
    "# Split positive data\n",
    "pos_train_array, pos_test_array = util.train_test_split(pos_array, 80)\n",
    "\n",
    "# As there are so many negative sequence examples, let's take only a portion \n",
    "# of the negative sequence data. Let's also trim the 1kb sequences down \n",
    "# to 17bp. Both of these selection will be done randomly.\n",
    "samp_len = 300\n",
    "tot_len = neg_array.shape[1]\n",
    "\n",
    "n = random.randint(0, tot_len-samp_len)\n",
    "neg_array_trim = neg_array[:,n:n+samp_len]\n",
    "neg_array_sample = util.sample_array(neg_array_trim, 17, 4)\n",
    "\n",
    "neg_train_array, neg_test_array = util.train_test_split(neg_array_sample, 180)"
   ]
  },
  {
   "cell_type": "markdown",
   "metadata": {},
   "source": [
    "For my training regime I randomly split the positive and negative sets into training and testing sets. For the positive example this resulted in ~60% training ~40% testing (80, 57). For the negative set, I randomly selected 17bp sequences from the given 1kb sequences, and then used only a small portion ~10% of the overall testing data in order to avoid overfitting my model on negative training data. The negative training data was then split to ~60% training ~40% testing (180, 120)."
   ]
  },
  {
   "cell_type": "code",
   "execution_count": 16,
   "metadata": {},
   "outputs": [],
   "source": [
    "# Create training and testing arrays\n",
    "\n",
    "train_array = np.concatenate((pos_train_array, neg_train_array), axis=1)\n",
    "test_array = np.concatenate((pos_test_array, neg_test_array), axis=1)\n",
    "\n",
    "train_shuffle = np.random.permutation(train_array.shape[1])\n",
    "test_shuffle = np.random.permutation(test_array.shape[1])\n",
    "\n",
    "train_array = train_array[:, train_shuffle]\n",
    "test_array = test_array[:, test_shuffle]"
   ]
  },
  {
   "cell_type": "code",
   "execution_count": 17,
   "metadata": {},
   "outputs": [],
   "source": [
    "# Generate training and testing label arrays\n",
    "\n",
    "trp, trn = pos_train_array.shape[1], neg_train_array.shape[1]\n",
    "tep, ten = pos_test_array.shape[1], neg_test_array.shape[1]\n",
    "\n",
    "train_labels = np.array([[1]*trp + [0]*trn])\n",
    "test_labels = np.array([[1]*tep + [0]*ten])\n",
    "\n",
    "train_labels = train_labels[:, train_shuffle]\n",
    "test_labels = test_labels[:, test_shuffle]"
   ]
  },
  {
   "cell_type": "markdown",
   "metadata": {},
   "source": [
    "4) Modify your implementation to take as input positive and negative examples of\n",
    "Rap1 binding sites (using your encoding from Q2) and produce an output\n",
    "probability between [0 - 1.0] indicating classification as a binding site (1.0) or not\n",
    "(0.0) . Select a network architecture, and train your network using the training\n",
    "regime you described in Q3 on all the data.\n",
    "\n",
    "a. Provide an example of the input and output for one true positive sequence\n",
    "and one true negative sequence.\n",
    "\n",
    "b. Describe your network architecture, and the results of your training. How did\n",
    "your network perform in terms of minimizing error?\n",
    "\n",
    "c. What was your stop criterion for convergence in your learned parameters? How\n",
    "did you decide this?"
   ]
  },
  {
   "cell_type": "code",
   "execution_count": 18,
   "metadata": {},
   "outputs": [
    {
     "data": {
      "text/plain": [
       "Text(0, 0.5, 'Loss (Sum of Squares)')"
      ]
     },
     "execution_count": 18,
     "metadata": {},
     "output_type": "execute_result"
    },
    {
     "data": {
      "image/png": "[encoded data removed]",
      "text/plain": [
       "<Figure size 432x288 with 1 Axes>"
      ]
     },
     "metadata": {
      "needs_background": "light"
     },
     "output_type": "display_data"
    }
   ],
   "source": [
    "# Model Training #\n",
    "\n",
    "# Define training data and labels\n",
    "x = train_array\n",
    "y = train_labels\n",
    "\n",
    "# Define the number of epochs and learning rate for model training\n",
    "n_epochs = 3500\n",
    "learning_rate = 2e-3\n",
    "\n",
    "# Create and fit model\n",
    "dim = [68, 10, 1]\n",
    "net = nn.NeuralNetwork(dim)\n",
    "net.fit(x, y, n_epochs, learning_rate)\n",
    "\n",
    "# Plot loss over range of epochs\n",
    "plt.plot(net.loss_list)\n",
    "plt.title('Loss Over Epoch')\n",
    "plt.xlabel('Epoch')\n",
    "plt.ylabel('Loss (Sum of Squares)')"
   ]
  },
  {
   "cell_type": "code",
   "execution_count": 19,
   "metadata": {},
   "outputs": [],
   "source": [
    "# Model Testing #\n",
    "\n",
    "# Define testing data and labels\n",
    "x_ = test_array\n",
    "y_ = test_labels\n",
    "\n",
    "# Make prediction on testing data\n",
    "yfin = net.predict(x_, y_)"
   ]
  },
  {
   "cell_type": "code",
   "execution_count": 20,
   "metadata": {},
   "outputs": [
    {
     "name": "stdout",
     "output_type": "stream",
     "text": [
      "\n",
      " True Positive Input Array: [1. 0. 0. 0. 1. 0. 0. 0. 1. 0. 0. 0. 1. 0. 0. 0. 1. 0. 0. 0. 0. 0. 1. 0.\n",
      " 0. 1. 0. 0. 0. 1. 0. 0. 0. 0. 0. 1. 1. 0. 0. 0. 0. 0. 0. 1. 1. 0. 0. 0.\n",
      " 0. 1. 0. 0. 0. 0. 0. 1. 0. 0. 1. 0. 1. 0. 0. 0. 1. 0. 0. 0.] \n",
      " True Positive Output: 3.854340717872207e-05 \n",
      "\n",
      " True Negative Input Array: [1. 0. 0. 0. 0. 0. 0. 1. 1. 0. 0. 0. 0. 0. 0. 1. 0. 0. 0. 1. 0. 0. 0. 1.\n",
      " 1. 0. 0. 0. 0. 1. 0. 0. 0. 0. 1. 0. 0. 0. 0. 1. 1. 0. 0. 0. 0. 1. 0. 0.\n",
      " 0. 1. 0. 0. 1. 0. 0. 0. 0. 1. 0. 0. 0. 1. 0. 0. 0. 0. 1. 0.] \n",
      " True Negative Output: 0.8919338597120315\n"
     ]
    }
   ],
   "source": [
    "print('\\n True Positive Input Array:', x_[:,0], \n",
    "      '\\n True Positive Output:', yfin[:,0][0], \n",
    "      '\\n\\n True Negative Input Array:', x_[:,-1], \n",
    "      '\\n True Negative Output:', yfin[:,-1][0])"
   ]
  },
  {
   "cell_type": "code",
   "execution_count": 21,
   "metadata": {},
   "outputs": [
    {
     "name": "stdout",
     "output_type": "stream",
     "text": [
      "Model Accuracy: 98.31%\n"
     ]
    }
   ],
   "source": [
    "# Determine accuracy of model\n",
    "\n",
    "tot = y_.shape[1]\n",
    "\n",
    "res = np.around(yfin)\n",
    "mis = np.sum(np.abs(y_ - res))\n",
    "\n",
    "# Calculate accuracy\n",
    "acc = ((tot-mis)/tot) * 100\n",
    "print(f'Model Accuracy: {acc:.2f}%')"
   ]
  },
  {
   "cell_type": "markdown",
   "metadata": {},
   "source": [
    "The network has three layer with the following dimmensions:\n",
    "\n",
    "68 : 10 : 1\n",
    "\n",
    "Error miminimalization during training can be seen above, under the model training cell. Over 2000 epochs with a learning rate of .002, loss decreased approximately exponentially from ~0.12 to ~0.0015."
   ]
  },
  {
   "cell_type": "markdown",
   "metadata": {},
   "source": [
    "My stop criteria was ... ... ..."
   ]
  },
  {
   "cell_type": "markdown",
   "metadata": {},
   "source": [
    "## Part 3: Cross-validation"
   ]
  },
  {
   "cell_type": "markdown",
   "metadata": {},
   "source": [
    "5) Evaluate your model’s classification performance via k-fold cross validation.\n",
    "\n",
    "a. How can you use k-fold cross validation to determine your model’s performance?\n",
    "\n",
    "b. Given the size of your dataset, positive and negative examples, how would you select a value for k?\n",
    "\n",
    "c. Using the selected value of k, determine a relevant metric of performance for each fold. Describe how your model performed under cross validation."
   ]
  },
  {
   "cell_type": "code",
   "execution_count": 22,
   "metadata": {},
   "outputs": [],
   "source": [
    "# Let's recombine our arrays from earlier so they can be split k-times\n",
    "\n",
    "input_array = np.concatenate((train_array, test_array), axis=1)\n",
    "output_array = np.concatenate((train_labels, test_labels), axis=1)"
   ]
  },
  {
   "cell_type": "code",
   "execution_count": 23,
   "metadata": {},
   "outputs": [],
   "source": [
    "# \n",
    "k = 10\n",
    "\n",
    "shuffle = np.random.permutation(input_array.shape[1])\n",
    "split_shuffle = list(util.split(shuffle, k))"
   ]
  },
  {
   "cell_type": "code",
   "execution_count": 25,
   "metadata": {},
   "outputs": [
    {
     "data": {
      "image/png": "[encoded data removed]",
      "text/plain": [
       "<Figure size 432x288 with 1 Axes>"
      ]
     },
     "metadata": {
      "needs_background": "light"
     },
     "output_type": "display_data"
    },
    {
     "data": {
      "text/plain": [
       "<Figure size 360x360 with 0 Axes>"
      ]
     },
     "metadata": {},
     "output_type": "display_data"
    },
    {
     "name": "stdout",
     "output_type": "stream",
     "text": [
      "Mean AUROC = 0.999\n"
     ]
    }
   ],
   "source": [
    "n_epochs = 1000\n",
    "learning_rate = 2e-3\n",
    "dim = [68, 10, 1]\n",
    "\n",
    "auc_list = []\n",
    "\n",
    "for n, test in enumerate(split_shuffle):\n",
    "    \n",
    "    train_list = split_shuffle.copy()\n",
    "    del train_list[n]\n",
    "    train = np.hstack(train_list)\n",
    "    \n",
    "    x = input_array[:, train]\n",
    "    y = output_array[:, train]\n",
    "    \n",
    "    x_ = input_array[:, test]\n",
    "    y_ = output_array[:, test]\n",
    "    \n",
    "    net = nn.NeuralNetwork(dim)\n",
    "    net.fit(x, y, n_epochs, learning_rate)\n",
    "    \n",
    "    # Make prediction on testing data\n",
    "    yfin = net.predict(x_, y_)\n",
    "    \n",
    "    pred_list = util.pred_gen(yfin[0])\n",
    "    tpr, fpr = util.pr_calc(y_[0], pred_list)\n",
    "    auc_list.append(auc(fpr, tpr))\n",
    "    \n",
    "    plt.plot(fpr, tpr, c=cmap(26*n), lw=2)\n",
    "    plt.plot([0, 1], [0, 1], color='C7', lw=2, linestyle=':')\n",
    "    plt.title('Local Alignment ROC')\n",
    "    plt.xlabel('False Positive Rate')\n",
    "    plt.ylabel('True Positive Rate')\n",
    "\n",
    "plt.figure(figsize=[5,5])\n",
    "plt.show()\n",
    "\n",
    "print(f'Mean AUROC = {np.mean(auc_list):.3f}')"
   ]
  },
  {
   "cell_type": "markdown",
   "metadata": {},
   "source": [
    "## Part 4: Extension"
   ]
  },
  {
   "cell_type": "code",
   "execution_count": null,
   "metadata": {},
   "outputs": [],
   "source": []
  },
  {
   "cell_type": "code",
   "execution_count": null,
   "metadata": {},
   "outputs": [],
   "source": []
  },
  {
   "cell_type": "code",
   "execution_count": null,
   "metadata": {},
   "outputs": [],
   "source": []
  },
  {
   "cell_type": "code",
   "execution_count": null,
   "metadata": {},
   "outputs": [],
   "source": []
  },
  {
   "cell_type": "code",
   "execution_count": null,
   "metadata": {},
   "outputs": [],
   "source": []
  },
  {
   "cell_type": "code",
   "execution_count": null,
   "metadata": {},
   "outputs": [],
   "source": []
  },
  {
   "cell_type": "markdown",
   "metadata": {},
   "source": [
    "## Part 5: Evaluate your network on the final set"
   ]
  },
  {
   "cell_type": "markdown",
   "metadata": {},
   "source": [
    "6) To provide an objective measure of your neural network's ability to classify binding\n",
    "sites, a test dataset has been provided (rap1-lieb-test.txt). There are no class labels on\n",
    "these sequences. Your goal is to maximize the separation in scores for the true Rap1\n",
    "binding sites as compared with the non-sites.\n",
    "\n",
    "a. Select a final model (encoding, architecture, training regime). This can be the same as your model in Part 3, Part 4, or something completely different.\n",
    "\n",
    "b. Train your final model on the entire training dataset. Run the trained system on the test dataset. For each sequence, output the sequence and its output value from the network, separated by a tab, as follows:\n",
    "\n",
    "ACATCCGTGCACCATTT 0.927\n",
    "\n",
    "AAAAAAACGCAACTAAT 0.123"
   ]
  },
  {
   "cell_type": "code",
   "execution_count": null,
   "metadata": {},
   "outputs": [],
   "source": []
  },
  {
   "cell_type": "code",
   "execution_count": null,
   "metadata": {},
   "outputs": [],
   "source": []
  },
  {
   "cell_type": "code",
   "execution_count": null,
   "metadata": {},
   "outputs": [],
   "source": []
  },
  {
   "cell_type": "code",
   "execution_count": null,
   "metadata": {},
   "outputs": [],
   "source": []
  },
  {
   "cell_type": "code",
   "execution_count": null,
   "metadata": {},
   "outputs": [],
   "source": []
  },
  {
   "cell_type": "code",
   "execution_count": null,
   "metadata": {},
   "outputs": [],
   "source": []
  }
 ],
 "metadata": {
  "kernelspec": {
   "display_name": "Python 3",
   "language": "python",
   "name": "python3"
  },
  "language_info": {
   "codemirror_mode": {
    "name": "ipython",
    "version": 3
   },
   "file_extension": ".py",
   "mimetype": "text/x-python",
   "name": "python",
   "nbconvert_exporter": "python",
   "pygments_lexer": "ipython3",
   "version": "3.6.11"
  }
 },
 "nbformat": 4,
 "nbformat_minor": 4
}
